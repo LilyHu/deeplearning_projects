{
 "cells": [
  {
   "cell_type": "code",
   "execution_count": 1,
   "metadata": {
    "collapsed": false
   },
   "outputs": [],
   "source": [
    "import tensorflow as tf\n",
    "import pandas as pd\n",
    "import random"
   ]
  },
  {
   "cell_type": "markdown",
   "metadata": {},
   "source": [
    "# Building Data Example"
   ]
  },
  {
   "cell_type": "code",
   "execution_count": 2,
   "metadata": {
    "collapsed": false
   },
   "outputs": [],
   "source": [
    "# Load Data\n",
    "col_names = pd.read_pickle(\"../..//Data/PickleFiles/2_new_features/orig_and_eng.p\").columns\n",
    "xdata = pd.read_pickle(\"../..//Data/PickleFiles/3_labels_cv/training_data_cv2.p\")[col_names]\n",
    "ydata_orig = pd.read_pickle(\"../..//Data/PickleFiles/3_labels_cv/training_data_cv2labelweights-multiclass.p\")['__label__']\n",
    "# One hot encode the labels\n",
    "ydata=pd.DataFrame(index=ydata_orig.index, columns=[0, 1, 2, 3, 4, 5], data=0)\n",
    "for index in ydata.index:\n",
    "    category_number = ydata_orig[index]\n",
    "    ydata.loc[index, category_number] = 1"
   ]
  },
  {
   "cell_type": "code",
   "execution_count": 46,
   "metadata": {
    "collapsed": false
   },
   "outputs": [],
   "source": [
    "sess = tf.InteractiveSession()\n",
    "\n",
    "# Model parameters\n",
    "num_input_vars = 121\n",
    "num_output_vars = 6\n",
    "\n",
    "# Create the model\n",
    "# Input\n",
    "x = tf.placeholder(tf.float32, [None, num_input_vars])\n",
    "# Output \n",
    "y_ = tf.placeholder(tf.float32, [None, num_output_vars])\n",
    "\n",
    "# weights\n",
    "W = tf.Variable(tf.zeros([num_input_vars, num_output_vars]))\n",
    "# Biases\n",
    "b = tf.Variable(tf.zeros([num_output_vars]))\n",
    "\n",
    "# Initialize variables\n",
    "sess.run(tf.global_variables_initializer())\n",
    "\n",
    "# Implement regression mode\n",
    "y = tf.matmul(x, W) + b\n",
    "# Loss function\n",
    "cross_entropy = tf.reduce_mean(tf.nn.softmax_cross_entropy_with_logits(labels=y_, logits=y))\n",
    "\n",
    "# Train\n",
    "train_step = tf.train.GradientDescentOptimizer(0.5).minimize(cross_entropy)"
   ]
  },
  {
   "cell_type": "code",
   "execution_count": 47,
   "metadata": {
    "collapsed": false,
    "scrolled": false
   },
   "outputs": [],
   "source": [
    "for i in range(1000):\n",
    "    batch = []\n",
    "    indices = random.sample(list(ydata.index.values), 100)\n",
    "    batch.append(xdata.loc[indices, :])\n",
    "    batch.append(ydata.loc[indices, :])\n",
    "    train_step.run(feed_dict={x: batch[0], y_: batch[1]})"
   ]
  },
  {
   "cell_type": "code",
   "execution_count": 54,
   "metadata": {
    "collapsed": false
   },
   "outputs": [],
   "source": [
    "# Load the test data\n",
    "xtest = pd.read_pickle(\"../..//Data/PickleFiles/3_labels_cv/testing_data_cv2.p\")[col_names]\n",
    "ytest_orig = pd.read_pickle(\"../..//Data/PickleFiles/3_labels_cv/testing_data_cv2labelweights-multiclass.p\")['__label__']\n",
    "ytest=pd.DataFrame(index=ytest_orig.index, columns=[0, 1, 2, 3, 4, 5], data=0)\n",
    "# One hot encode the test data\n",
    "for index in ytest.index:\n",
    "    category_number = ytest_orig[index]\n",
    "    ytest.loc[index, category_number] = 1"
   ]
  },
  {
   "cell_type": "code",
   "execution_count": 55,
   "metadata": {
    "collapsed": false
   },
   "outputs": [
    {
     "name": "stdout",
     "output_type": "stream",
     "text": [
      "0.984551\n"
     ]
    }
   ],
   "source": [
    "# Calculate the accuracy rate on the test data\n",
    "\n",
    "correct_prediction = tf.equal(tf.argmax(y,1), tf.argmax(y_,1))\n",
    "accuracy = tf.reduce_mean(tf.cast(correct_prediction, tf.float32))\n",
    "print(accuracy.eval(feed_dict={x: xtest, y_: ytest}))"
   ]
  },
  {
   "cell_type": "code",
   "execution_count": null,
   "metadata": {
    "collapsed": true
   },
   "outputs": [],
   "source": []
  }
 ],
 "metadata": {
  "kernelspec": {
   "display_name": "Python 3",
   "language": "python",
   "name": "python3"
  },
  "language_info": {
   "codemirror_mode": {
    "name": "ipython",
    "version": 3
   },
   "file_extension": ".py",
   "mimetype": "text/x-python",
   "name": "python",
   "nbconvert_exporter": "python",
   "pygments_lexer": "ipython3",
   "version": "3.5.1"
  }
 },
 "nbformat": 4,
 "nbformat_minor": 0
}
